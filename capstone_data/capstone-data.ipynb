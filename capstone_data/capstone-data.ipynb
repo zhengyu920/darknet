{
 "cells": [
  {
   "cell_type": "code",
   "execution_count": 1,
   "metadata": {},
   "outputs": [],
   "source": [
    "import xml.etree.ElementTree as ET\n",
    "import pickle\n",
    "import os\n",
    "from os import listdir, getcwd\n",
    "from os.path import join\n",
    "import yaml"
   ]
  },
  {
   "cell_type": "code",
   "execution_count": 2,
   "metadata": {},
   "outputs": [],
   "source": [
    "def convert(size, box):\n",
    "    dw = 1./(size[0])\n",
    "    dh = 1./(size[1])\n",
    "    x = (box[0] + box[1])/2.0 - 1\n",
    "    y = (box[2] + box[3])/2.0 - 1\n",
    "    w = box[1] - box[0]\n",
    "    h = box[3] - box[2]\n",
    "    x = x*dw\n",
    "    w = w*dw\n",
    "    y = y*dh\n",
    "    h = h*dh\n",
    "    return (x,y,w,h)"
   ]
  },
  {
   "cell_type": "markdown",
   "metadata": {},
   "source": [
    "# Sim Training"
   ]
  },
  {
   "cell_type": "code",
   "execution_count": 3,
   "metadata": {},
   "outputs": [
    {
     "name": "stdout",
     "output_type": "stream",
     "text": [
      "{'Green', 'Red', 'Yellow'}\n"
     ]
    }
   ],
   "source": [
    "base_path = '/Users/yzheng1/darknet/capstone_data/dataset-sdcnd-capstone/data/sim_training_data/'\n",
    "yaml_path = 'sim_data_annotations.yaml'\n",
    "image_paths = []\n",
    "labels = set()\n",
    "\n",
    "with open(base_path + yaml_path, 'r') as a_file:\n",
    "    a = yaml.load(a_file)\n",
    "    for entry in a:\n",
    "        annotations = entry['annotations']\n",
    "        file_name = entry['filename'] # sim_data_capture/left0003.jpg\n",
    "        image_name = file_name.split('/')[1].split('.')[0] # left0003\n",
    "        # mark down all image file path, and put into train.txt and vail.txt\n",
    "        image_paths.append(file_name)\n",
    "        # for each file, write all annotation in image_name.txt\n",
    "        for anno in annotations:\n",
    "            label = anno['class']\n",
    "            labels.add(label)\n",
    "            x_width = float(anno['x_width'])\n",
    "            xmin = float(anno['xmin'])\n",
    "            xmax = xmin + x_width\n",
    "            y_height = float(anno['y_height'])\n",
    "            ymin = float(anno['ymin'])\n",
    "            ymax = ymin + y_height\n",
    "            b = (xmin, xmax, ymin, ymax)\n",
    "print(labels)"
   ]
  },
  {
   "cell_type": "code",
   "execution_count": 5,
   "metadata": {},
   "outputs": [],
   "source": [
    "base_path = '/Users/yzheng1/darknet/capstone_data/dataset-sdcnd-capstone/data/sim_training_data/'\n",
    "yaml_path = 'sim_data_annotations.yaml'\n",
    "image_paths = []\n",
    "classes = {'Red': 0, 'Green': 1, 'Yellow': 2}\n",
    "w = 800\n",
    "h = 600\n",
    "with open(base_path + yaml_path, 'r') as a_file:\n",
    "    a = yaml.load(a_file)\n",
    "    for entry in a:\n",
    "        annotations = entry['annotations']\n",
    "        file_name = entry['filename'] # sim_data_capture/left0003.jpg\n",
    "        image_name = file_name.split('/')[1].split('.')[0] # left0003\n",
    "        # mark down all image file path, and put into train.txt and vail.txt\n",
    "        image_paths.append(file_name)\n",
    "        # for each file, write all annotation in image_name.txt\n",
    "        with open(base_path + 'labels/' + image_name + '.txt', 'w') as temp:\n",
    "            for anno in annotations:\n",
    "                label = anno['class']\n",
    "                cls_id = classes[label]\n",
    "                x_width = float(anno['x_width'])\n",
    "                xmin = float(anno['xmin'])\n",
    "                xmax = xmin + x_width\n",
    "                y_height = float(anno['y_height'])\n",
    "                ymin = float(anno['ymin'])\n",
    "                ymax = ymin + y_height\n",
    "                b = (xmin, xmax, ymin, ymax)\n",
    "                bb = convert((w,h), b)\n",
    "                temp.write(str(cls_id) + \" \" + \" \".join([str(a) for a in bb]) + '\\n')"
   ]
  },
  {
   "cell_type": "code",
   "execution_count": 6,
   "metadata": {},
   "outputs": [],
   "source": [
    "base_path = '/Users/yzheng1/darknet/capstone_data/dataset-sdcnd-capstone/data/sim_training_data/'\n",
    "\n",
    "s = int(len(image_paths) * 0.9)\n",
    "train = image_paths[:s]\n",
    "valid = image_paths[s:]\n",
    "with open(base_path + 'train.txt', 'w') as t_file:\n",
    "    for t in train:\n",
    "        t_file.write(base_path + t + '\\n')\n",
    "\n",
    "with open(base_path + 'valid.txt', 'w') as v_file:\n",
    "    for v in valid:\n",
    "        v_file.write(base_path + v + '\\n')"
   ]
  },
  {
   "cell_type": "markdown",
   "metadata": {},
   "source": [
    "# Real Training"
   ]
  },
  {
   "cell_type": "code",
   "execution_count": 26,
   "metadata": {},
   "outputs": [
    {
     "name": "stdout",
     "output_type": "stream",
     "text": [
      "{'Red', 'Green', 'Yellow'}\n"
     ]
    }
   ],
   "source": [
    "base_path = '/Users/yzheng1/darknet/capstone_data/dataset-sdcnd-capstone/data/real_training_data/'\n",
    "yaml_path = 'real_data_annotations.yaml'\n",
    "image_paths = []\n",
    "labels = set()\n",
    "\n",
    "with open(base_path + yaml_path, 'r') as a_file:\n",
    "    a = yaml.load(a_file)\n",
    "    for entry in a:\n",
    "        annotations = entry['annotations']\n",
    "        file_name = entry['filename'] # sim_data_capture/left0003.jpg\n",
    "        image_name = file_name.split('/')[1].split('.')[0] # left0003\n",
    "        # mark down all image file path, and put into train.txt and vail.txt\n",
    "        image_paths.append(file_name)\n",
    "        # for each file, write all annotation in image_name.txt\n",
    "        for anno in annotations:\n",
    "            label = anno['class']\n",
    "            labels.add(label)\n",
    "            x_width = float(anno['x_width'])\n",
    "            xmin = float(anno['xmin'])\n",
    "            xmax = xmin + x_width\n",
    "            y_height = float(anno['y_height'])\n",
    "            ymin = float(anno['ymin'])\n",
    "            ymax = ymin + y_height\n",
    "            b = (xmin, xmax, ymin, ymax)\n",
    "print(labels)"
   ]
  },
  {
   "cell_type": "code",
   "execution_count": 27,
   "metadata": {},
   "outputs": [
    {
     "ename": "FileNotFoundError",
     "evalue": "[Errno 2] No such file or directory: '/Users/yzheng1/darknet/capstone_data/dataset-sdcnd-capstone/data/real_training_data/sim_data_annotations.yaml'",
     "output_type": "error",
     "traceback": [
      "\u001b[0;31m---------------------------------------------------------------------------\u001b[0m",
      "\u001b[0;31mFileNotFoundError\u001b[0m                         Traceback (most recent call last)",
      "\u001b[0;32m<ipython-input-27-34a6cc1683b3>\u001b[0m in \u001b[0;36m<module>\u001b[0;34m()\u001b[0m\n\u001b[1;32m      5\u001b[0m \u001b[0mw\u001b[0m \u001b[0;34m=\u001b[0m \u001b[0;36m800\u001b[0m\u001b[0;34m\u001b[0m\u001b[0;34m\u001b[0m\u001b[0m\n\u001b[1;32m      6\u001b[0m \u001b[0mh\u001b[0m \u001b[0;34m=\u001b[0m \u001b[0;36m600\u001b[0m\u001b[0;34m\u001b[0m\u001b[0;34m\u001b[0m\u001b[0m\n\u001b[0;32m----> 7\u001b[0;31m \u001b[0;32mwith\u001b[0m \u001b[0mopen\u001b[0m\u001b[0;34m(\u001b[0m\u001b[0mbase_path\u001b[0m \u001b[0;34m+\u001b[0m \u001b[0myaml_path\u001b[0m\u001b[0;34m,\u001b[0m \u001b[0;34m'r'\u001b[0m\u001b[0;34m)\u001b[0m \u001b[0;32mas\u001b[0m \u001b[0ma_file\u001b[0m\u001b[0;34m:\u001b[0m\u001b[0;34m\u001b[0m\u001b[0;34m\u001b[0m\u001b[0m\n\u001b[0m\u001b[1;32m      8\u001b[0m     \u001b[0ma\u001b[0m \u001b[0;34m=\u001b[0m \u001b[0myaml\u001b[0m\u001b[0;34m.\u001b[0m\u001b[0mload\u001b[0m\u001b[0;34m(\u001b[0m\u001b[0ma_file\u001b[0m\u001b[0;34m)\u001b[0m\u001b[0;34m\u001b[0m\u001b[0;34m\u001b[0m\u001b[0m\n\u001b[1;32m      9\u001b[0m     \u001b[0;32mfor\u001b[0m \u001b[0mentry\u001b[0m \u001b[0;32min\u001b[0m \u001b[0ma\u001b[0m\u001b[0;34m:\u001b[0m\u001b[0;34m\u001b[0m\u001b[0;34m\u001b[0m\u001b[0m\n",
      "\u001b[0;31mFileNotFoundError\u001b[0m: [Errno 2] No such file or directory: '/Users/yzheng1/darknet/capstone_data/dataset-sdcnd-capstone/data/real_training_data/sim_data_annotations.yaml'"
     ]
    }
   ],
   "source": [
    "base_path = '/Users/yzheng1/darknet/capstone_data/dataset-sdcnd-capstone/data/real_training_data/'\n",
    "yaml_path = 'real_data_annotations.yaml'\n",
    "image_paths = []\n",
    "classes = {'Red': 0, 'Green': 1, 'Yellow': 2}\n",
    "w = 800\n",
    "h = 600\n",
    "with open(base_path + yaml_path, 'r') as a_file:\n",
    "    a = yaml.load(a_file)\n",
    "    for entry in a:\n",
    "        annotations = entry['annotations']\n",
    "        file_name = entry['filename'] # real_data_capture/left0003.jpg\n",
    "        image_name = file_name.split('/')[1].split('.')[0] # left0003\n",
    "        # mark down all image file path, and put into train.txt and vail.txt\n",
    "        image_paths.append(file_name)\n",
    "        # for each file, write all annotation in image_name.txt\n",
    "        with open(base_path + 'labels/' + image_name + '.txt', 'w') as temp:\n",
    "            for anno in annotations:\n",
    "                label = anno['class']\n",
    "                cls_id = classes[label]\n",
    "                x_width = float(anno['x_width'])\n",
    "                xmin = float(anno['xmin'])\n",
    "                xmax = xmin + x_width\n",
    "                y_height = float(anno['y_height'])\n",
    "                ymin = float(anno['ymin'])\n",
    "                ymax = ymin + y_height\n",
    "                b = (xmin, xmax, ymin, ymax)\n",
    "                bb = convert((w,h), b)\n",
    "                temp.write(str(cls_id) + \" \" + \" \".join([str(a) for a in bb]) + '\\n')"
   ]
  },
  {
   "cell_type": "code",
   "execution_count": null,
   "metadata": {},
   "outputs": [],
   "source": [
    "base_path = '/Users/yzheng1/darknet/capstone_data/dataset-sdcnd-capstone/data/real_training_data/'\n",
    "\n",
    "s = int(len(image_paths) * 0.9)\n",
    "train = image_paths[:s]\n",
    "valid = image_paths[s:]\n",
    "with open(base_path + 'train.txt', 'w') as t_file:\n",
    "    for t in train:\n",
    "        t_file.write(base_path + t + '\\n')\n",
    "\n",
    "with open(base_path + 'valid.txt', 'w') as v_file:\n",
    "    for v in valid:\n",
    "        v_file.write(base_path + v + '\\n')"
   ]
  }
 ],
 "metadata": {
  "kernelspec": {
   "display_name": "Python 3",
   "language": "python",
   "name": "python3"
  },
  "language_info": {
   "codemirror_mode": {
    "name": "ipython",
    "version": 3
   },
   "file_extension": ".py",
   "mimetype": "text/x-python",
   "name": "python",
   "nbconvert_exporter": "python",
   "pygments_lexer": "ipython3",
   "version": "3.6.8"
  }
 },
 "nbformat": 4,
 "nbformat_minor": 2
}
