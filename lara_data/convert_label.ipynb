{
 "cells": [
  {
   "cell_type": "code",
   "execution_count": null,
   "metadata": {},
   "outputs": [],
   "source": [
    "# python 3.6\n",
    "# conda"
   ]
  },
  {
   "cell_type": "code",
   "execution_count": 3,
   "metadata": {},
   "outputs": [],
   "source": [
    "import xml.etree.ElementTree as ET\n",
    "import pickle\n",
    "import os\n",
    "from os import listdir, getcwd\n",
    "from os.path import join\n",
    "from PIL import Image"
   ]
  },
  {
   "cell_type": "code",
   "execution_count": 2,
   "metadata": {},
   "outputs": [],
   "source": [
    "def convert(size, box):\n",
    "    dw = 1./(size[0])\n",
    "    dh = 1./(size[1])\n",
    "    x = (box[0] + box[1])/2.0 - 1\n",
    "    y = (box[2] + box[3])/2.0 - 1\n",
    "    w = box[1] - box[0]\n",
    "    h = box[3] - box[2]\n",
    "    x = x*dw\n",
    "    w = w*dw\n",
    "    y = y*dh\n",
    "    h = h*dh\n",
    "    return (x,y,w,h)"
   ]
  },
  {
   "cell_type": "code",
   "execution_count": null,
   "metadata": {},
   "outputs": [],
   "source": [
    "############################ PUBLIC DATABASE ############################\n",
    "#http://www.lara.prd.fr/benchmarks/trafficlightsrecognition \n",
    "#(free of use for any research purpose)\n",
    "#\n",
    "#-----------------------------------------------------------------------#\n",
    "#Database provided by the *Robotics Centre, of Mines ParisTech* (France)\n",
    "#\n",
    "#File format is as follows:\n",
    "#Timestamp / frameindex x1 y1 x2 y2 id 'type' 'subtype'\n",
    "#-----------------------------------------------------------------------#\n",
    "#\n",
    "#\n",
    "#File version v 0.5\n",
    "#['06:11.4062', '/', '4442', '571', '68', '584', '101', '5', 'Traffic', 'Light', 'stop']\n",
    "# size: width, height\n",
    "#        640, 480"
   ]
  },
  {
   "cell_type": "code",
   "execution_count": null,
   "metadata": {},
   "outputs": [],
   "source": [
    "labels = set()\n",
    "count = {}\n",
    "with open('lara_GT.txt') as gt_file:\n",
    "    for _, line in enumerate(gt_file):\n",
    "        split = line.split()\n",
    "        if (len(split) < 11):\n",
    "            continue\n",
    "        # print(split)\n",
    "        id = split[2]\n",
    "        \n",
    "        if (id in count):\n",
    "            count[id] = count[id] + 1\n",
    "        else:\n",
    "            count[id] = 1\n",
    "        labels.add(split[10])\n",
    "\n",
    "for id in count:\n",
    "    if (count[id] > 0):\n",
    "        print(id.zfill(5))"
   ]
  },
  {
   "cell_type": "code",
   "execution_count": 21,
   "metadata": {},
   "outputs": [
    {
     "name": "stdout",
     "output_type": "stream",
     "text": [
      "{'stop': 0, 'go': 1, 'warning': 2}\n"
     ]
    }
   ],
   "source": [
    "classes = {'stop': 0, 'go': 1, 'warning': 2}\n",
    "print(classes)"
   ]
  },
  {
   "cell_type": "code",
   "execution_count": 28,
   "metadata": {},
   "outputs": [],
   "source": [
    "base = '/media/yu/Data/lara_data/'\n",
    "image_paths = set()\n",
    "maps = {}\n",
    "w = 640\n",
    "h = 480\n",
    "with open('lara_GT.txt') as gt_file:\n",
    "    for _, line in enumerate(gt_file):\n",
    "        line = line.split()\n",
    "        label = line[-1]\n",
    "        if (label not in classes):\n",
    "            continue\n",
    "        cls_id = classes[label]\n",
    "        id = line[2].zfill(6)\n",
    "        xmin = int(line[3])\n",
    "        ymin = int(line[4])\n",
    "        xmax = int(line[5])\n",
    "        ymax = int(line[6])\n",
    "        image_file_name = 'frame_' + id\n",
    "        image_path = base + 'images/' + image_file_name + '.jpg'\n",
    "        image_paths.add(image_path)\n",
    "        label_path = base + 'labels/' + image_file_name + '.txt'\n",
    "        b = (float(xmin), float(xmax), float(ymin), float(ymax))\n",
    "        bb = convert((w,h), b)\n",
    "        if (label_path not in maps):\n",
    "            maps[label_path] = []\n",
    "        maps[label_path].append(str(cls_id) + \" \" + \" \".join([str(a) for a in bb]) + '\\n')"
   ]
  },
  {
   "cell_type": "code",
   "execution_count": 29,
   "metadata": {},
   "outputs": [],
   "source": [
    "with open('train.txt', 'w') as train_file:\n",
    "    for p in image_paths:\n",
    "        train_file.write(p + '\\n')"
   ]
  },
  {
   "cell_type": "code",
   "execution_count": 30,
   "metadata": {},
   "outputs": [],
   "source": [
    "for label_path in maps:\n",
    "    with open(label_path, 'w') as label_file:\n",
    "        for bb in maps[label_path]:\n",
    "            label_file.write(bb)"
   ]
  },
  {
   "cell_type": "code",
   "execution_count": null,
   "metadata": {},
   "outputs": [],
   "source": []
  }
 ],
 "metadata": {
  "kernelspec": {
   "display_name": "Python 3",
   "language": "python",
   "name": "python3"
  },
  "language_info": {
   "codemirror_mode": {
    "name": "ipython",
    "version": 3
   },
   "file_extension": ".py",
   "mimetype": "text/x-python",
   "name": "python",
   "nbconvert_exporter": "python",
   "pygments_lexer": "ipython3",
   "version": "3.6.0"
  }
 },
 "nbformat": 4,
 "nbformat_minor": 2
}
